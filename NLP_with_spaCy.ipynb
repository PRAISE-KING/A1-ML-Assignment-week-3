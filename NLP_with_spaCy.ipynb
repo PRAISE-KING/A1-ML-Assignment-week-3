{
  "nbformat": 4,
  "nbformat_minor": 0,
  "metadata": {
    "colab": {
      "provenance": [],
      "authorship_tag": "ABX9TyPr2UYCJPwZgd77pRvEjrjW",
      "include_colab_link": true
    },
    "kernelspec": {
      "name": "python3",
      "display_name": "Python 3"
    },
    "language_info": {
      "name": "python"
    }
  },
  "cells": [
    {
      "cell_type": "markdown",
      "metadata": {
        "id": "view-in-github",
        "colab_type": "text"
      },
      "source": [
        "<a href=\"https://colab.research.google.com/github/Tess-cloud/A1-ML-Assignment-week-3/blob/main/NLP_with_spaCy.ipynb\" target=\"_parent\"><img src=\"https://colab.research.google.com/assets/colab-badge.svg\" alt=\"Open In Colab\"/></a>"
      ]
    },
    {
      "cell_type": "code",
      "execution_count": 1,
      "metadata": {
        "id": "eKfkKurkwcYo"
      },
      "outputs": [],
      "source": [
        "# Task 3: NLP with spaCy - NER + Rule-Based Sentiment\n",
        "\n",
        "import spacy"
      ]
    },
    {
      "cell_type": "code",
      "source": [
        "# Load spaCy model\n",
        "nlp = spacy.load(\"en_core_web_sm\")"
      ],
      "metadata": {
        "id": "M5c4-hKtwqgL"
      },
      "execution_count": 2,
      "outputs": []
    },
    {
      "cell_type": "code",
      "source": [
        "# Sample Amazon review\n",
        "review = \"I love my new Samsung Galaxy phone. The camera is amazing!\"\n",
        "doc = nlp(review)"
      ],
      "metadata": {
        "id": "4HNkppkHwtuL"
      },
      "execution_count": 3,
      "outputs": []
    },
    {
      "cell_type": "code",
      "source": [
        "# Named Entity Recognition\n",
        "print(\"Named Entities:\")\n",
        "for ent in doc.ents:\n",
        "    print(ent.text, \"-\", ent.label_)"
      ],
      "metadata": {
        "colab": {
          "base_uri": "https://localhost:8080/"
        },
        "id": "V9N0zwVRwxAN",
        "outputId": "e0316fc3-483e-4468-ae01-173bdc3eef01"
      },
      "execution_count": 4,
      "outputs": [
        {
          "output_type": "stream",
          "name": "stdout",
          "text": [
            "Named Entities:\n",
            "Samsung Galaxy - ORG\n"
          ]
        }
      ]
    },
    {
      "cell_type": "code",
      "source": [
        "# Rule-based sentiment analysis\n",
        "positive_words = [\"love\", \"amazing\", \"great\", \"excellent\"]\n",
        "negative_words = [\"bad\", \"poor\", \"hate\", \"terrible\"]\n",
        "\n",
        "sentiment = \"positive\" if any(word in review.lower() for word in positive_words) else \\\n",
        "            \"negative\" if any(word in review.lower() for word in negative_words) else \"neutral\"\n",
        "\n",
        "print(\"Sentiment:\", sentiment)\n"
      ],
      "metadata": {
        "colab": {
          "base_uri": "https://localhost:8080/"
        },
        "id": "JfT_ag9qw0yY",
        "outputId": "197c8038-ca0b-4a84-8881-14b94a7ef615"
      },
      "execution_count": 5,
      "outputs": [
        {
          "output_type": "stream",
          "name": "stdout",
          "text": [
            "Sentiment: positive\n"
          ]
        }
      ]
    }
  ]
}